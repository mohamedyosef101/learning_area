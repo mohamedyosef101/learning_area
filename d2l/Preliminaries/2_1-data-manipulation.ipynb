{
  "cells": [
    {
      "cell_type": "markdown",
      "metadata": {
        "id": "view-in-github",
        "colab_type": "text"
      },
      "source": [
        "<a href=\"https://colab.research.google.com/github/mohamedyosef101/101_learning_area/blob/area/d2l/Preliminaries/2_1-data-manipulation.ipynb\" target=\"_parent\"><img src=\"https://colab.research.google.com/assets/colab-badge.svg\" alt=\"Open In Colab\"/></a>"
      ]
    },
    {
      "cell_type": "markdown",
      "source": [
        "# Data Manipulation\n",
        "**Source**: [Dive into Deep Learning](https://d2l.ai)"
      ],
      "metadata": {
        "id": "sq2sk41OrC3m"
      },
      "id": "sq2sk41OrC3m"
    },
    {
      "cell_type": "code",
      "source": [
        "import torch"
      ],
      "metadata": {
        "id": "lbQQ2rPWA3ig"
      },
      "id": "lbQQ2rPWA3ig",
      "execution_count": 17,
      "outputs": []
    },
    {
      "cell_type": "code",
      "source": [
        "x = torch.arange(12, dtype=torch.int32)\n",
        "print(x)"
      ],
      "metadata": {
        "id": "7ok0M4iiBPhM",
        "outputId": "4a203929-9519-4ff6-c2fa-41bba57bca68",
        "colab": {
          "base_uri": "https://localhost:8080/"
        }
      },
      "id": "7ok0M4iiBPhM",
      "execution_count": 2,
      "outputs": [
        {
          "output_type": "stream",
          "name": "stdout",
          "text": [
            "tensor([ 0,  1,  2,  3,  4,  5,  6,  7,  8,  9, 10, 11], dtype=torch.int32)\n"
          ]
        }
      ]
    },
    {
      "cell_type": "code",
      "source": [
        "# the total number of elements\n",
        "x.numel()"
      ],
      "metadata": {
        "id": "NB3ZJ_bhBio5",
        "outputId": "8c5156b6-3dff-4463-e7e2-615e47e35853",
        "colab": {
          "base_uri": "https://localhost:8080/"
        }
      },
      "id": "NB3ZJ_bhBio5",
      "execution_count": 3,
      "outputs": [
        {
          "output_type": "execute_result",
          "data": {
            "text/plain": [
              "12"
            ]
          },
          "metadata": {},
          "execution_count": 3
        }
      ]
    },
    {
      "cell_type": "code",
      "source": [
        "print(\"shape:\", x.shape)\n",
        "print(\"better shape:\", x.detach().numpy().shape)"
      ],
      "metadata": {
        "id": "eiHtcdmLBq27",
        "outputId": "3f5a1dac-1935-473c-98f8-4da6f6bad518",
        "colab": {
          "base_uri": "https://localhost:8080/"
        }
      },
      "id": "eiHtcdmLBq27",
      "execution_count": 4,
      "outputs": [
        {
          "output_type": "stream",
          "name": "stdout",
          "text": [
            "shape: torch.Size([12])\n",
            "better shape: (12,)\n"
          ]
        }
      ]
    },
    {
      "cell_type": "code",
      "source": [
        "X = x.reshape(2, 6)\n",
        "print(X)"
      ],
      "metadata": {
        "id": "dQbZByJ0BuHC",
        "outputId": "8bb97a3c-5101-4ff8-d1cf-cc9eb4f0ac24",
        "colab": {
          "base_uri": "https://localhost:8080/"
        }
      },
      "id": "dQbZByJ0BuHC",
      "execution_count": 5,
      "outputs": [
        {
          "output_type": "stream",
          "name": "stdout",
          "text": [
            "tensor([[ 0,  1,  2,  3,  4,  5],\n",
            "        [ 6,  7,  8,  9, 10, 11]], dtype=torch.int32)\n"
          ]
        }
      ]
    },
    {
      "cell_type": "code",
      "source": [
        "# high rank tensor\n",
        "torch.zeros((2, 1, 3), dtype=torch.int32)"
      ],
      "metadata": {
        "id": "6vFm8nQCCuhp",
        "outputId": "17013dfe-4972-4eaa-cdab-edd8aa53caa1",
        "colab": {
          "base_uri": "https://localhost:8080/"
        }
      },
      "id": "6vFm8nQCCuhp",
      "execution_count": 6,
      "outputs": [
        {
          "output_type": "execute_result",
          "data": {
            "text/plain": [
              "tensor([[[0, 0, 0]],\n",
              "\n",
              "        [[0, 0, 0]]], dtype=torch.int32)"
            ]
          },
          "metadata": {},
          "execution_count": 6
        }
      ]
    },
    {
      "cell_type": "code",
      "source": [
        "torch.ones((3, 1, 2), dtype=torch.int)"
      ],
      "metadata": {
        "id": "YA0m55FCDG46",
        "outputId": "0d9a31cc-b8e6-428d-b6e4-3cb462264424",
        "colab": {
          "base_uri": "https://localhost:8080/"
        }
      },
      "id": "YA0m55FCDG46",
      "execution_count": 7,
      "outputs": [
        {
          "output_type": "execute_result",
          "data": {
            "text/plain": [
              "tensor([[[1, 1]],\n",
              "\n",
              "        [[1, 1]],\n",
              "\n",
              "        [[1, 1]]], dtype=torch.int32)"
            ]
          },
          "metadata": {},
          "execution_count": 7
        }
      ]
    },
    {
      "cell_type": "code",
      "source": [
        "# random tensor from normal distribution\n",
        "R = torch.randn((2, 3, 1), dtype=torch.float32)\n",
        "print(R)"
      ],
      "metadata": {
        "id": "4sStNSyNDQmc",
        "outputId": "ebfea8e3-be70-45d6-edf3-8a8e076abca8",
        "colab": {
          "base_uri": "https://localhost:8080/"
        }
      },
      "id": "4sStNSyNDQmc",
      "execution_count": 8,
      "outputs": [
        {
          "output_type": "stream",
          "name": "stdout",
          "text": [
            "tensor([[[ 1.9287],\n",
            "         [-0.4666],\n",
            "         [-2.2394]],\n",
            "\n",
            "        [[-0.4869],\n",
            "         [-1.2403],\n",
            "         [ 0.5022]]])\n"
          ]
        }
      ]
    },
    {
      "cell_type": "markdown",
      "source": [
        "# Indexing and Slicing"
      ],
      "metadata": {
        "id": "NAHCW0KPGY9V"
      },
      "id": "NAHCW0KPGY9V"
    },
    {
      "cell_type": "code",
      "source": [
        "R[-1], R[0:2]"
      ],
      "metadata": {
        "id": "1qSxqCKLEWYe",
        "outputId": "8b055599-83cf-479b-bf6e-86834ee7740d",
        "colab": {
          "base_uri": "https://localhost:8080/"
        }
      },
      "id": "1qSxqCKLEWYe",
      "execution_count": 9,
      "outputs": [
        {
          "output_type": "execute_result",
          "data": {
            "text/plain": [
              "(tensor([[-0.4869],\n",
              "         [-1.2403],\n",
              "         [ 0.5022]]),\n",
              " tensor([[[ 1.9287],\n",
              "          [-0.4666],\n",
              "          [-2.2394]],\n",
              " \n",
              "         [[-0.4869],\n",
              "          [-1.2403],\n",
              "          [ 0.5022]]]))"
            ]
          },
          "metadata": {},
          "execution_count": 9
        }
      ]
    },
    {
      "cell_type": "code",
      "source": [
        "R[-1][-1] = 0\n",
        "print(R)"
      ],
      "metadata": {
        "id": "d_ybo_fKGn_n",
        "outputId": "1802396d-f919-483c-9010-ec0eea246f68",
        "colab": {
          "base_uri": "https://localhost:8080/"
        }
      },
      "id": "d_ybo_fKGn_n",
      "execution_count": 10,
      "outputs": [
        {
          "output_type": "stream",
          "name": "stdout",
          "text": [
            "tensor([[[ 1.9287],\n",
            "         [-0.4666],\n",
            "         [-2.2394]],\n",
            "\n",
            "        [[-0.4869],\n",
            "         [-1.2403],\n",
            "         [ 0.0000]]])\n"
          ]
        }
      ]
    },
    {
      "cell_type": "code",
      "source": [
        "X[:1, :] = 1\n",
        "print(X)"
      ],
      "metadata": {
        "id": "ITeYIscoHEKN",
        "outputId": "ef2e6c2d-39b2-4c60-a850-5bbe1629df7b",
        "colab": {
          "base_uri": "https://localhost:8080/"
        }
      },
      "id": "ITeYIscoHEKN",
      "execution_count": 14,
      "outputs": [
        {
          "output_type": "stream",
          "name": "stdout",
          "text": [
            "tensor([[ 1,  1,  1,  1,  1,  1],\n",
            "        [ 6,  7,  8,  9, 10, 11]], dtype=torch.int32)\n"
          ]
        }
      ]
    },
    {
      "cell_type": "code",
      "source": [
        "X[-1:, :] = 2\n",
        "print(X)"
      ],
      "metadata": {
        "id": "DzlU2ebCHJ0M",
        "outputId": "a5f39ba1-dd59-4b89-9938-1ee3c7977a89",
        "colab": {
          "base_uri": "https://localhost:8080/"
        }
      },
      "id": "DzlU2ebCHJ0M",
      "execution_count": 15,
      "outputs": [
        {
          "output_type": "stream",
          "name": "stdout",
          "text": [
            "tensor([[1, 1, 1, 1, 1, 1],\n",
            "        [2, 2, 2, 2, 2, 2]], dtype=torch.int32)\n"
          ]
        }
      ]
    },
    {
      "cell_type": "markdown",
      "source": [
        "# Operations"
      ],
      "metadata": {
        "id": "VBhB1QwCHk4E"
      },
      "id": "VBhB1QwCHk4E"
    },
    {
      "cell_type": "markdown",
      "source": [
        "In mathematical notation, we denote such *unary* scalar operators (taking one input) by the signature $f: \\mathbb R \\to \\mathbb R$. This is means that the function maps from any real number onto some other real number. Most standard operators, including unary ones like $e^x$, can be applied elementwise."
      ],
      "metadata": {
        "id": "q31WflZAHzI5"
      },
      "id": "q31WflZAHzI5"
    },
    {
      "cell_type": "code",
      "source": [
        "torch.exp(x)"
      ],
      "metadata": {
        "id": "KUOtpVPUJPtq",
        "outputId": "725220af-63b1-46a7-b60e-ea3bef57a7cd",
        "colab": {
          "base_uri": "https://localhost:8080/"
        }
      },
      "id": "KUOtpVPUJPtq",
      "execution_count": 16,
      "outputs": [
        {
          "output_type": "execute_result",
          "data": {
            "text/plain": [
              "tensor([2.7183, 2.7183, 2.7183, 2.7183, 2.7183, 2.7183, 7.3891, 7.3891, 7.3891,\n",
              "        7.3891, 7.3891, 7.3891])"
            ]
          },
          "metadata": {},
          "execution_count": 16
        }
      ]
    },
    {
      "cell_type": "markdown",
      "source": [
        "Likewise, we denote binary scalar operators, which map pairs of real numbers to a (single) real number via the signature $f: \\mathbb R, \\mathbb R \\to \\mathbb R$. Given any two vectors $u$ and $v$ of the same shape, and a binary operator $f$, we can produce a vector $c = F(u, v)$ by setting $c_i \\gets f(u_i, v_i)$ for all $i$, where $c_i$, $u_i$, and the $i^th$ elements of the vectors $c, u$, and $v$."
      ],
      "metadata": {
        "id": "sUlWqehsJZxc"
      },
      "id": "sUlWqehsJZxc"
    },
    {
      "cell_type": "code",
      "source": [
        "u = torch.arange(4, dtype=torch.int32)\n",
        "v = torch.ones(4, dtype=torch.int32)\n",
        "c = u * v\n",
        "print(f\"u = {u.numpy()}\\nv = {v.numpy()}\\nc = {c.numpy()}\")"
      ],
      "metadata": {
        "id": "cUwrSXMUJRVH",
        "outputId": "6b640cbc-18c8-4904-8448-9868e8c91260",
        "colab": {
          "base_uri": "https://localhost:8080/"
        }
      },
      "id": "cUwrSXMUJRVH",
      "execution_count": 23,
      "outputs": [
        {
          "output_type": "stream",
          "name": "stdout",
          "text": [
            "u = [0 1 2 3]\n",
            "v = [1 1 1 1]\n",
            "c = [0 1 2 3]\n"
          ]
        }
      ]
    },
    {
      "cell_type": "markdown",
      "source": [
        "| Standard arithmetic operators |\n",
        "| ---------------------------- |\n",
        "| addition  ( **+** ) |\n",
        "| subtraction ( **-** ) |\n",
        "| multiplication ( * ) |\n",
        "| division ( **/** ) |\n",
        "| exponentiation ( ** ) |"
      ],
      "metadata": {
        "id": "XbuHVF5LOaUi"
      },
      "id": "XbuHVF5LOaUi"
    }
  ],
  "metadata": {
    "kernelspec": {
      "display_name": "Python 3",
      "language": "python",
      "name": "python3"
    },
    "language_info": {
      "codemirror_mode": {
        "name": "ipython",
        "version": 3
      },
      "file_extension": ".py",
      "mimetype": "text/x-python",
      "name": "python",
      "nbconvert_exporter": "python",
      "pygments_lexer": "ipython3",
      "version": "3.8.8"
    },
    "colab": {
      "provenance": [],
      "include_colab_link": true
    }
  },
  "nbformat": 4,
  "nbformat_minor": 5
}