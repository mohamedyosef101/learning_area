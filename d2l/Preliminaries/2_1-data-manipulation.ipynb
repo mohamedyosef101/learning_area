{
  "cells": [
    {
      "cell_type": "markdown",
      "metadata": {
        "id": "view-in-github",
        "colab_type": "text"
      },
      "source": [
        "<a href=\"https://colab.research.google.com/github/mohamedyosef101/101_learning_area/blob/area/d2l/Preliminaries/2_1-data-manipulation.ipynb\" target=\"_parent\"><img src=\"https://colab.research.google.com/assets/colab-badge.svg\" alt=\"Open In Colab\"/></a>"
      ]
    },
    {
      "cell_type": "markdown",
      "source": [
        "# Data Manipulation\n",
        "**Source**: [Dive into Deep Learning](https://d2l.ai)"
      ],
      "metadata": {
        "id": "sq2sk41OrC3m"
      },
      "id": "sq2sk41OrC3m"
    },
    {
      "cell_type": "code",
      "source": [
        "import torch"
      ],
      "metadata": {
        "id": "lbQQ2rPWA3ig"
      },
      "id": "lbQQ2rPWA3ig",
      "execution_count": 1,
      "outputs": []
    },
    {
      "cell_type": "code",
      "source": [
        "x = torch.arange(12, dtype=torch.int32)\n",
        "print(x)"
      ],
      "metadata": {
        "id": "7ok0M4iiBPhM",
        "outputId": "dbeb4fe4-d112-47c7-c5d0-fc8ea6156aa9",
        "colab": {
          "base_uri": "https://localhost:8080/"
        }
      },
      "id": "7ok0M4iiBPhM",
      "execution_count": 4,
      "outputs": [
        {
          "output_type": "stream",
          "name": "stdout",
          "text": [
            "tensor([ 0,  1,  2,  3,  4,  5,  6,  7,  8,  9, 10, 11], dtype=torch.int32)\n"
          ]
        }
      ]
    },
    {
      "cell_type": "code",
      "source": [
        "# the total number of elements\n",
        "x.numel()"
      ],
      "metadata": {
        "id": "NB3ZJ_bhBio5",
        "outputId": "1ec40393-7077-4f57-97da-5ac5f8aef963",
        "colab": {
          "base_uri": "https://localhost:8080/"
        }
      },
      "id": "NB3ZJ_bhBio5",
      "execution_count": 5,
      "outputs": [
        {
          "output_type": "execute_result",
          "data": {
            "text/plain": [
              "12"
            ]
          },
          "metadata": {},
          "execution_count": 5
        }
      ]
    },
    {
      "cell_type": "code",
      "source": [
        "print(\"shape:\", x.shape)\n",
        "print(\"better shape:\", x.detach().numpy().shape)"
      ],
      "metadata": {
        "id": "eiHtcdmLBq27",
        "outputId": "c58ca89b-c562-48f1-f617-82cc8fd01494",
        "colab": {
          "base_uri": "https://localhost:8080/"
        }
      },
      "id": "eiHtcdmLBq27",
      "execution_count": 9,
      "outputs": [
        {
          "output_type": "stream",
          "name": "stdout",
          "text": [
            "shape: torch.Size([12])\n",
            "better shape: (12,)\n"
          ]
        }
      ]
    },
    {
      "cell_type": "code",
      "source": [
        "X = x.reshape(2, 6)\n",
        "print(X)"
      ],
      "metadata": {
        "id": "dQbZByJ0BuHC",
        "outputId": "9670d30e-6385-4f30-f0a0-c93115600e3c",
        "colab": {
          "base_uri": "https://localhost:8080/"
        }
      },
      "id": "dQbZByJ0BuHC",
      "execution_count": 11,
      "outputs": [
        {
          "output_type": "stream",
          "name": "stdout",
          "text": [
            "tensor([[ 0,  1,  2,  3,  4,  5],\n",
            "        [ 6,  7,  8,  9, 10, 11]], dtype=torch.int32)\n"
          ]
        }
      ]
    },
    {
      "cell_type": "code",
      "source": [
        "# high rank tensor\n",
        "torch.zeros((2, 1, 3), dtype=torch.int32)"
      ],
      "metadata": {
        "id": "6vFm8nQCCuhp",
        "outputId": "7f35d6c6-147c-4836-e589-e2ae79af92e0",
        "colab": {
          "base_uri": "https://localhost:8080/"
        }
      },
      "id": "6vFm8nQCCuhp",
      "execution_count": 13,
      "outputs": [
        {
          "output_type": "execute_result",
          "data": {
            "text/plain": [
              "tensor([[[0, 0, 0]],\n",
              "\n",
              "        [[0, 0, 0]]], dtype=torch.int32)"
            ]
          },
          "metadata": {},
          "execution_count": 13
        }
      ]
    },
    {
      "cell_type": "code",
      "source": [
        "torch.ones((3, 1, 2), dtype=torch.int)"
      ],
      "metadata": {
        "id": "YA0m55FCDG46",
        "outputId": "380e56f6-41c6-4537-d8aa-be529919c7bb",
        "colab": {
          "base_uri": "https://localhost:8080/"
        }
      },
      "id": "YA0m55FCDG46",
      "execution_count": 15,
      "outputs": [
        {
          "output_type": "execute_result",
          "data": {
            "text/plain": [
              "tensor([[[1, 1]],\n",
              "\n",
              "        [[1, 1]],\n",
              "\n",
              "        [[1, 1]]], dtype=torch.int32)"
            ]
          },
          "metadata": {},
          "execution_count": 15
        }
      ]
    },
    {
      "cell_type": "code",
      "source": [
        "# random tensor from normal distribution\n",
        "R = torch.randn((2, 3, 1), dtype=torch.float32)\n",
        "print(R)"
      ],
      "metadata": {
        "id": "4sStNSyNDQmc",
        "outputId": "820d973e-b7f8-4bc6-f5f6-cc4d32abc0be",
        "colab": {
          "base_uri": "https://localhost:8080/"
        }
      },
      "id": "4sStNSyNDQmc",
      "execution_count": 20,
      "outputs": [
        {
          "output_type": "stream",
          "name": "stdout",
          "text": [
            "tensor([[[-0.8074],\n",
            "         [-0.9482],\n",
            "         [-1.1078]],\n",
            "\n",
            "        [[ 0.2802],\n",
            "         [ 1.3105],\n",
            "         [ 0.7219]]])\n"
          ]
        }
      ]
    },
    {
      "cell_type": "code",
      "source": [
        "R[-1], R[0:2]"
      ],
      "metadata": {
        "id": "1qSxqCKLEWYe",
        "outputId": "a10ca650-3e77-4732-8dfb-8a6dd57e5a3c",
        "colab": {
          "base_uri": "https://localhost:8080/"
        }
      },
      "id": "1qSxqCKLEWYe",
      "execution_count": 23,
      "outputs": [
        {
          "output_type": "execute_result",
          "data": {
            "text/plain": [
              "(tensor([[0.2802],\n",
              "         [1.3105],\n",
              "         [0.7219]]),\n",
              " tensor([[[-0.8074],\n",
              "          [-0.9482],\n",
              "          [-1.1078]],\n",
              " \n",
              "         [[ 0.2802],\n",
              "          [ 1.3105],\n",
              "          [ 0.7219]]]))"
            ]
          },
          "metadata": {},
          "execution_count": 23
        }
      ]
    }
  ],
  "metadata": {
    "kernelspec": {
      "display_name": "Python 3",
      "language": "python",
      "name": "python3"
    },
    "language_info": {
      "codemirror_mode": {
        "name": "ipython",
        "version": 3
      },
      "file_extension": ".py",
      "mimetype": "text/x-python",
      "name": "python",
      "nbconvert_exporter": "python",
      "pygments_lexer": "ipython3",
      "version": "3.8.8"
    },
    "colab": {
      "provenance": [],
      "include_colab_link": true
    }
  },
  "nbformat": 4,
  "nbformat_minor": 5
}