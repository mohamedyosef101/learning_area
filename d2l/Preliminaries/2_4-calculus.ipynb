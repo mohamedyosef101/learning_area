{
  "cells": [
    {
      "cell_type": "markdown",
      "source": [
        "# Calculus\n",
        "**Sources:**\n",
        "* Aston Zhang et al. 2023. Dive into deep leaning. https://d2l.ai/.\n",
        "* Grant Standerson. 2017. [The Essence of Calculus](https://youtube.com/playlist?list=PLZHQObOWTQDMsr9K-rj53DwVRMYO3t5Yr&si=Y5RFNk-ee_NwprwD)."
      ],
      "metadata": {
        "id": "rQueI6FqLC_-"
      },
      "id": "rQueI6FqLC_-"
    },
    {
      "cell_type": "code",
      "source": [
        "%%capture\n",
        "!pip install d2l"
      ],
      "metadata": {
        "id": "gvj_5my8LfjT"
      },
      "id": "gvj_5my8LfjT",
      "execution_count": 1,
      "outputs": []
    },
    {
      "cell_type": "code",
      "source": [
        "import numpy as np\n",
        "import matplotlib.pyplot as plt\n",
        "from d2l import torch as d2l"
      ],
      "metadata": {
        "id": "MOyip8XSLpfI"
      },
      "id": "MOyip8XSLpfI",
      "execution_count": 2,
      "outputs": []
    },
    {
      "cell_type": "markdown",
      "source": [
        "## Derivatives and Differentiation\n",
        "A *derivative* is the rate of change in a function with respect to changes in its arguments. Derivatives can tell us how rapidly a loss function would increase or decrease. Formally, for functions $f: \\mathbb R \\to \\mathbb R$, that map from scalars to scalars, the derivative of $f$ at a point $x$ is defined as\n",
        "$$f'(x) = \\lim_{h \\to 0} \\frac{f(x+h)-f(x)}{h}$$"
      ],
      "metadata": {
        "id": "8K2kTCYjL9H7"
      },
      "id": "8K2kTCYjL9H7"
    },
    {
      "cell_type": "markdown",
      "source": [
        "Define $u = f(x) = 3x^2 - 4x$."
      ],
      "metadata": {
        "id": "DFHKW86EPyRC"
      },
      "id": "DFHKW86EPyRC"
    },
    {
      "cell_type": "code",
      "source": [
        "def f(x):\n",
        "  return 3 * x ** 2 - 4 * x\n",
        "\n",
        "f(1)"
      ],
      "metadata": {
        "id": "YMW1cZmJL8UR",
        "outputId": "de72c3c8-760e-42e9-fa4a-26f97cc857c1",
        "colab": {
          "base_uri": "https://localhost:8080/"
        }
      },
      "id": "YMW1cZmJL8UR",
      "execution_count": 4,
      "outputs": [
        {
          "output_type": "execute_result",
          "data": {
            "text/plain": [
              "-1"
            ]
          },
          "metadata": {},
          "execution_count": 4
        }
      ]
    }
  ],
  "metadata": {
    "kernelspec": {
      "display_name": "Python 3",
      "language": "python",
      "name": "python3"
    },
    "language_info": {
      "codemirror_mode": {
        "name": "ipython",
        "version": 3
      },
      "file_extension": ".py",
      "mimetype": "text/x-python",
      "name": "python",
      "nbconvert_exporter": "python",
      "pygments_lexer": "ipython3",
      "version": "3.8.8"
    },
    "colab": {
      "provenance": []
    }
  },
  "nbformat": 4,
  "nbformat_minor": 5
}