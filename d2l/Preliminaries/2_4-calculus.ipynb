{
  "cells": [
    {
      "cell_type": "markdown",
      "metadata": {
        "id": "view-in-github",
        "colab_type": "text"
      },
      "source": [
        "<a href=\"https://colab.research.google.com/github/mohamedyosef101/101_learning_area/blob/area/d2l/Preliminaries/2_4-calculus.ipynb\" target=\"_parent\"><img src=\"https://colab.research.google.com/assets/colab-badge.svg\" alt=\"Open In Colab\"/></a>"
      ]
    },
    {
      "cell_type": "markdown",
      "source": [
        "# Calculus\n",
        "**Sources:**\n",
        "* Aston Zhang et al. 2023. Dive into deep leaning. https://d2l.ai/.\n",
        "* Grant Standerson. 2017. [The Essence of Calculus](https://youtube.com/playlist?list=PLZHQObOWTQDMsr9K-rj53DwVRMYO3t5Yr&si=Y5RFNk-ee_NwprwD)."
      ],
      "metadata": {
        "id": "rQueI6FqLC_-"
      },
      "id": "rQueI6FqLC_-"
    },
    {
      "cell_type": "code",
      "source": [
        "%%capture\n",
        "!pip install d2l"
      ],
      "metadata": {
        "id": "gvj_5my8LfjT"
      },
      "id": "gvj_5my8LfjT",
      "execution_count": 1,
      "outputs": []
    },
    {
      "cell_type": "code",
      "source": [
        "import numpy as np\n",
        "import matplotlib.pyplot as plt\n",
        "from matplotlib_inline import backend_inline\n",
        "from d2l import torch as d2l"
      ],
      "metadata": {
        "id": "MOyip8XSLpfI"
      },
      "id": "MOyip8XSLpfI",
      "execution_count": 2,
      "outputs": []
    },
    {
      "cell_type": "markdown",
      "source": [
        "## Derivatives and Differentiation\n",
        "A *derivative* is the rate of change in a function with respect to changes in its arguments. Derivatives can tell us how rapidly a loss function would increase or decrease. Formally, for functions $f: \\mathbb R \\to \\mathbb R$, that map from scalars to scalars, the derivative of $f$ at a point $x$ is defined as\n",
        "$$f'(x) = \\lim_{h \\to 0} \\frac{f(x+h)-f(x)}{h}$$"
      ],
      "metadata": {
        "id": "8K2kTCYjL9H7"
      },
      "id": "8K2kTCYjL9H7"
    },
    {
      "cell_type": "markdown",
      "source": [
        "Define $u = f(x) = 3x^2 - 4x$."
      ],
      "metadata": {
        "id": "DFHKW86EPyRC"
      },
      "id": "DFHKW86EPyRC"
    },
    {
      "cell_type": "code",
      "source": [
        "def f(x):\n",
        "  return 3 * x ** 2 - 4 * x"
      ],
      "metadata": {
        "id": "YMW1cZmJL8UR"
      },
      "id": "YMW1cZmJL8UR",
      "execution_count": 3,
      "outputs": []
    },
    {
      "cell_type": "code",
      "source": [
        "for h in 10.0**np.arange(-1, -6, -1):\n",
        "  print(f'h={h:.5f}, numerical limit={(f(1+h)-f(1))/h:.5f}')"
      ],
      "metadata": {
        "id": "slWzRGAwVCM1",
        "outputId": "ca6cd247-9047-489e-ba0e-2cb19f270269",
        "colab": {
          "base_uri": "https://localhost:8080/"
        }
      },
      "id": "slWzRGAwVCM1",
      "execution_count": 4,
      "outputs": [
        {
          "output_type": "stream",
          "name": "stdout",
          "text": [
            "h=0.10000, numerical limit=2.30000\n",
            "h=0.01000, numerical limit=2.03000\n",
            "h=0.00100, numerical limit=2.00300\n",
            "h=0.00010, numerical limit=2.00030\n",
            "h=0.00001, numerical limit=2.00003\n"
          ]
        }
      ]
    }
  ],
  "metadata": {
    "kernelspec": {
      "display_name": "Python 3",
      "language": "python",
      "name": "python3"
    },
    "language_info": {
      "codemirror_mode": {
        "name": "ipython",
        "version": 3
      },
      "file_extension": ".py",
      "mimetype": "text/x-python",
      "name": "python",
      "nbconvert_exporter": "python",
      "pygments_lexer": "ipython3",
      "version": "3.8.8"
    },
    "colab": {
      "provenance": [],
      "include_colab_link": true
    }
  },
  "nbformat": 4,
  "nbformat_minor": 5
}