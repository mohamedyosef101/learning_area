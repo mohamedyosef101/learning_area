{
  "cells": [
    {
      "cell_type": "markdown",
      "metadata": {
        "id": "view-in-github",
        "colab_type": "text"
      },
      "source": [
        "<a href=\"https://colab.research.google.com/github/mohamedyosef101/101_learning_area/blob/area/d2l/Preliminaries/2_3-linear-algebra.ipynb\" target=\"_parent\"><img src=\"https://colab.research.google.com/assets/colab-badge.svg\" alt=\"Open In Colab\"/></a>"
      ]
    },
    {
      "cell_type": "markdown",
      "source": [
        "# Linear Algebra\n",
        "\n",
        "**Sources**:\n",
        "- Aston Zhang et al. 2023. https://d2l.ai\n",
        "- Grant Standerson. 2016. [Essence of linear algebra](https://youtube.com/playlist?list=PLZHQObOWTQDPD3MizzM2xVFitgF8hE_ab&si=wDPSsMVaR7Yvl3QJ)"
      ],
      "metadata": {
        "id": "CtVmWfMgtoaR"
      },
      "id": "CtVmWfMgtoaR"
    },
    {
      "cell_type": "code",
      "source": [
        "import torch"
      ],
      "metadata": {
        "id": "wEANysxCv_Ud"
      },
      "id": "wEANysxCv_Ud",
      "execution_count": 2,
      "outputs": []
    },
    {
      "cell_type": "markdown",
      "source": [
        "## Reduction"
      ],
      "metadata": {
        "id": "bHoqXR92wBXU"
      },
      "id": "bHoqXR92wBXU"
    },
    {
      "cell_type": "code",
      "source": [
        "A = torch.arange(12).reshape(3,4)\n",
        "A, A.sum()"
      ],
      "metadata": {
        "id": "Pp_7Os7ewDPS",
        "outputId": "1fc441f7-a6d0-4f03-e41e-e8ff36fbc3d7",
        "colab": {
          "base_uri": "https://localhost:8080/"
        }
      },
      "id": "Pp_7Os7ewDPS",
      "execution_count": 6,
      "outputs": [
        {
          "output_type": "execute_result",
          "data": {
            "text/plain": [
              "(tensor([[ 0,  1,  2,  3],\n",
              "         [ 4,  5,  6,  7],\n",
              "         [ 8,  9, 10, 11]]),\n",
              " tensor(66))"
            ]
          },
          "metadata": {},
          "execution_count": 6
        }
      ]
    },
    {
      "cell_type": "code",
      "source": [
        "A.sum(dim=0) # reduces row dimension"
      ],
      "metadata": {
        "id": "4u5ErbdhyvK9",
        "outputId": "488991f3-7dd8-4dfa-e895-9e0ba78fe480",
        "colab": {
          "base_uri": "https://localhost:8080/"
        }
      },
      "id": "4u5ErbdhyvK9",
      "execution_count": 8,
      "outputs": [
        {
          "output_type": "execute_result",
          "data": {
            "text/plain": [
              "tensor([12, 15, 18, 21])"
            ]
          },
          "metadata": {},
          "execution_count": 8
        }
      ]
    },
    {
      "cell_type": "code",
      "source": [
        "A.sum(dim=1) # reduces column dimension"
      ],
      "metadata": {
        "id": "LbYFhaPjy2jd",
        "outputId": "e3c65525-529d-48db-8cc3-adb2365d46a7",
        "colab": {
          "base_uri": "https://localhost:8080/"
        }
      },
      "id": "LbYFhaPjy2jd",
      "execution_count": 5,
      "outputs": [
        {
          "output_type": "execute_result",
          "data": {
            "text/plain": [
              "tensor([ 6, 22, 38])"
            ]
          },
          "metadata": {},
          "execution_count": 5
        }
      ]
    },
    {
      "cell_type": "code",
      "source": [
        "A.sum(dim=1, keepdim=True)"
      ],
      "metadata": {
        "id": "6U1danbV0Sud",
        "outputId": "ce8beb60-fa33-4b6f-aaf7-65119f3f1bdb",
        "colab": {
          "base_uri": "https://localhost:8080/"
        }
      },
      "id": "6U1danbV0Sud",
      "execution_count": 10,
      "outputs": [
        {
          "output_type": "execute_result",
          "data": {
            "text/plain": [
              "tensor([[ 6],\n",
              "        [22],\n",
              "        [38]])"
            ]
          },
          "metadata": {},
          "execution_count": 10
        }
      ]
    },
    {
      "cell_type": "code",
      "source": [
        "A.cumsum(dim=1)"
      ],
      "metadata": {
        "id": "70BXX7hq1gVO",
        "outputId": "f0a0790f-274f-4df5-e294-998215915f8b",
        "colab": {
          "base_uri": "https://localhost:8080/"
        }
      },
      "id": "70BXX7hq1gVO",
      "execution_count": 11,
      "outputs": [
        {
          "output_type": "execute_result",
          "data": {
            "text/plain": [
              "tensor([[ 0,  1,  3,  6],\n",
              "        [ 4,  9, 15, 22],\n",
              "        [ 8, 17, 27, 38]])"
            ]
          },
          "metadata": {},
          "execution_count": 11
        }
      ]
    },
    {
      "cell_type": "markdown",
      "source": [
        "## Products & Multiplications"
      ],
      "metadata": {
        "id": "3zW3NIh521g5"
      },
      "id": "3zW3NIh521g5"
    },
    {
      "cell_type": "code",
      "source": [
        "x, y = torch.tensor([1, 3, 2]), torch.tensor([2, 3, 4])\n",
        "torch.dot(x, y), torch.sum(x*y), x@y"
      ],
      "metadata": {
        "id": "ETU-HIvu2F52",
        "outputId": "c03be267-0dbf-4f30-9613-40e9fcf81e3e",
        "colab": {
          "base_uri": "https://localhost:8080/"
        }
      },
      "id": "ETU-HIvu2F52",
      "execution_count": 18,
      "outputs": [
        {
          "output_type": "execute_result",
          "data": {
            "text/plain": [
              "(tensor(19), tensor(19), tensor(19))"
            ]
          },
          "metadata": {},
          "execution_count": 18
        }
      ]
    },
    {
      "cell_type": "code",
      "source": [
        "# matrix-vector multiplication\n",
        "A = torch.arange(6).reshape(2,3)\n",
        "torch.mv(A, x), A@x"
      ],
      "metadata": {
        "id": "ZSNpMCl53jE8",
        "outputId": "50ba7c9a-42e7-4d6e-f229-1075057cc5c5",
        "colab": {
          "base_uri": "https://localhost:8080/"
        }
      },
      "id": "ZSNpMCl53jE8",
      "execution_count": 23,
      "outputs": [
        {
          "output_type": "execute_result",
          "data": {
            "text/plain": [
              "(tensor([ 7, 25]), tensor([ 7, 25]))"
            ]
          },
          "metadata": {},
          "execution_count": 23
        }
      ]
    },
    {
      "cell_type": "code",
      "source": [
        "# matrix-matrix multiplication\n",
        "torch.mm(A, A.T), A@A.T"
      ],
      "metadata": {
        "id": "LhmCHTB74a5s",
        "outputId": "9c05514e-03ea-4071-f442-0438bace8143",
        "colab": {
          "base_uri": "https://localhost:8080/"
        }
      },
      "id": "LhmCHTB74a5s",
      "execution_count": 24,
      "outputs": [
        {
          "output_type": "execute_result",
          "data": {
            "text/plain": [
              "(tensor([[ 5, 14],\n",
              "         [14, 50]]),\n",
              " tensor([[ 5, 14],\n",
              "         [14, 50]]))"
            ]
          },
          "metadata": {},
          "execution_count": 24
        }
      ]
    }
  ],
  "metadata": {
    "kernelspec": {
      "display_name": "Python 3",
      "language": "python",
      "name": "python3"
    },
    "language_info": {
      "codemirror_mode": {
        "name": "ipython",
        "version": 3
      },
      "file_extension": ".py",
      "mimetype": "text/x-python",
      "name": "python",
      "nbconvert_exporter": "python",
      "pygments_lexer": "ipython3",
      "version": "3.8.8"
    },
    "colab": {
      "provenance": [],
      "include_colab_link": true
    }
  },
  "nbformat": 4,
  "nbformat_minor": 5
}